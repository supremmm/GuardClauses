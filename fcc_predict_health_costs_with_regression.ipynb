{
  "cells": [
    {
      "cell_type": "markdown",
      "metadata": {
        "id": "view-in-github",
        "colab_type": "text"
      },
      "source": [
        "<a href=\"https://colab.research.google.com/github/supremmm/GuardClauses/blob/main/fcc_predict_health_costs_with_regression.ipynb\" target=\"_parent\"><img src=\"https://colab.research.google.com/assets/colab-badge.svg\" alt=\"Open In Colab\"/></a>"
      ]
    },
    {
      "cell_type": "code",
      "execution_count": null,
      "metadata": {
        "id": "1rRo8oNqZ-Rj"
      },
      "outputs": [],
      "source": [
        "# Import libraries. You may or may not use all of these.\n",
        "!pip install -q git+https://github.com/tensorflow/docs\n",
        "import matplotlib.pyplot as plt\n",
        "import numpy as np\n",
        "import pandas as pd\n",
        "\n",
        "try:\n",
        "  # %tensorflow_version only exists in Colab.\n",
        "  %tensorflow_version 2.x\n",
        "except Exception:\n",
        "  pass\n",
        "import tensorflow as tf\n",
        "\n",
        "from tensorflow import keras\n",
        "from tensorflow.keras import layers\n",
        "\n",
        "import tensorflow_docs as tfdocs\n",
        "import tensorflow_docs.plots\n",
        "import tensorflow_docs.modeling\n",
        "\n",
        "import seaborn as sns\n",
        "from sklearn.model_selection import train_test_split"
      ]
    },
    {
      "cell_type": "code",
      "execution_count": null,
      "metadata": {
        "id": "CiX2FI4gZtTt"
      },
      "outputs": [],
      "source": [
        "# Import data\n",
        "!wget https://cdn.freecodecamp.org/project-data/health-costs/insurance.csv\n",
        "dataset = pd.read_csv('insurance.csv')\n",
        "dataset.tail()"
      ]
    },
    {
      "cell_type": "markdown",
      "source": [
        "# 1- Exploratory Data Analysis\n",
        "\n",
        "Before modeling, we explore the data to understand relationships between variables"
      ],
      "metadata": {
        "id": "lSCz5ul430YM"
      }
    },
    {
      "cell_type": "code",
      "source": [
        "# Pairplot shows relationships between all numerical variables, colored by 'smoker'\n",
        "sns.pairplot(dataset, hue='smoker', palette='viridis', corner=True)\n",
        "plt.suptitle('Pairplot of numerical features by smoker status', y=1.02)\n",
        "plt.show()"
      ],
      "metadata": {
        "id": "0QpvGTRzzG_W"
      },
      "execution_count": null,
      "outputs": []
    },
    {
      "cell_type": "markdown",
      "source": [
        "**seaborn.pairplot:** This function creates a grid of plots showing the relationship between each pair of numerical variables.\n",
        "By setting **hue='smoker'**, we can instantly see that smokers (orange dots) consistently have higher expenses than non-smokers (purple dots), especially as age and BMI increase."
      ],
      "metadata": {
        "id": "IsiD3lU53uuY"
      }
    },
    {
      "cell_type": "code",
      "source": [
        "# A more focused look at key relationships\n",
        "fig, axes = plt.subplots(1, 2, figsize=(14, 6))\n",
        "sns.scatterplot(data=dataset, x='bmi', y='expenses', hue='smoker', alpha=0.6, ax=axes[0], palette='magma')\n",
        "axes[0].set_title('Expenses vs. BMI by smoker status')\n",
        "sns.scatterplot(data=dataset, x='age', y='expenses', hue='smoker', alpha=0.6, ax=axes[1], palette='magma')\n",
        "axes[1].set_title('Expenses vs. Age by smoker status')\n",
        "plt.tight_layout()\n",
        "plt.show()"
      ],
      "metadata": {
        "id": "3cEYf93E08Rg"
      },
      "execution_count": null,
      "outputs": []
    },
    {
      "cell_type": "markdown",
      "source": [
        "**seaborn.scatterplot:** We create focused scatter plots to examine the expenses vs. bmi and expenses vs. age relationships. These plots confirm that expenses rise with age and that smokers form a distinct, higher-cost group compared to non-smokers."
      ],
      "metadata": {
        "id": "0_rt_mbP5PH8"
      }
    },
    {
      "cell_type": "markdown",
      "source": [
        "# 2- data processing"
      ],
      "metadata": {
        "id": "1WXtqkDS8SlT"
      }
    },
    {
      "cell_type": "code",
      "source": [
        "\n",
        "\n",
        "\n",
        "print(\"Preprocessing data...\")\n",
        "# Create a copy to avoid modifying the original dataframe during preprocessing\n",
        "df_processed = dataset.copy()\n",
        "\n",
        "# Feature Engineering: Create interaction terms\n",
        "# This is a good way to capture complex relationships\n",
        "df_processed['bmi_smoker'] = df_processed['bmi'] * (df_processed['smoker'] == 'yes').astype(int)\n",
        "\n",
        "# Convert categorical columns to numerical using one-hot encoding\n",
        "df_processed = pd.get_dummies(df_processed, columns=['sex', 'smoker', 'region'], drop_first=True, dtype=float)\n",
        "\n",
        "# Separate features (X) and target (y)\n",
        "X = df_processed.drop('expenses', axis=1)\n",
        "y = df_processed['expenses']\n",
        "\n",
        "# Split data into training and testing sets using scikit-learn\n",
        "# This is more robust and standard than manual sampling\n",
        "X_train, X_test, y_train, y_test = train_test_split(X, y, test_size=0.2, random_state=42)\n",
        "\n",
        "train_dataset = X_train\n",
        "train_labels = y_train\n",
        "\n",
        "test_dataset = X_test\n",
        "test_labels = y_test\n",
        "\n",
        "print(\"Preprocessing completed.\")\n",
        "print(\"Training dataset shape:\", train_dataset.shape)\n",
        "print(\"Testing dataset shape:\", test_dataset.shape)\n"
      ],
      "metadata": {
        "id": "VmZbMWoXzWu5"
      },
      "execution_count": null,
      "outputs": []
    },
    {
      "cell_type": "markdown",
      "source": [
        "**Normalization:** A layers.Normalization layer is created and adapted only to the training data. This scales all features to a similar range, which helps the neural network train faster and more reliably."
      ],
      "metadata": {
        "id": "v6X7JLVT8BRq"
      }
    },
    {
      "cell_type": "code",
      "source": [
        "# Normalize numerical features using a Keras layer\n",
        "normalizer = layers.Normalization(axis=-1)\n",
        "normalizer.adapt(np.array(X_train)) # Adapt the normalizer only on the training data\n"
      ],
      "metadata": {
        "id": "NUTTbp558AtX"
      },
      "execution_count": null,
      "outputs": []
    },
    {
      "cell_type": "markdown",
      "source": [
        "# 3- build the model\n",
        "\n",
        "**Architecture**: The model consists of the normalization layer followed by two hidden Dense layers (with 128 and 64 neurons, respectively) using the 'ReLU' activation function, and a final Dense layer with a single neuron to output the predicted expense.\n",
        "\n",
        "**Compiler:** The model is compiled with the Adam optimizer and uses Mean Absolute Error (MAE) as its primary loss function, as it is easily interpretable in terms of dollar error."
      ],
      "metadata": {
        "id": "zalFy3cg8Vob"
      }
    },
    {
      "cell_type": "code",
      "source": [
        "\n",
        "def build_model(normalizer_layer):\n",
        "    model = keras.Sequential([\n",
        "        normalizer_layer,\n",
        "        layers.Dense(128, activation='relu'),\n",
        "        layers.Dense(64, activation='relu'),\n",
        "        layers.Dense(1)\n",
        "    ])\n",
        "    model.compile(\n",
        "        optimizer=keras.optimizers.Adam(learning_rate=0.001),\n",
        "        loss='mean_absolute_error',\n",
        "        metrics=['mae', 'mse']\n",
        "    )\n",
        "    return model\n",
        "\n",
        "model = build_model(normalizer)\n",
        "model.summary()"
      ],
      "metadata": {
        "id": "Kagn9SZWzgCk"
      },
      "execution_count": null,
      "outputs": []
    },
    {
      "cell_type": "markdown",
      "source": [
        "# training the model\n",
        "\n",
        "The model is trained using the .fit() method on the training data .\n",
        "\n",
        "**Early Stopping:** We use an EarlyStopping callback to monitor the validation loss. If the loss on the validation set does not improve for a set number of epochs (patience=15), training is stopped automatically. This prevents overfitting and saves computational time. The restore_best_weights=True argument ensures the model reverts to the state with the lowest validation error."
      ],
      "metadata": {
        "id": "ocC3maRw9kmW"
      }
    },
    {
      "cell_type": "code",
      "source": [
        "early_stop = keras.callbacks.EarlyStopping(monitor='val_loss', patience=15, restore_best_weights=True)\n",
        "\n",
        "history = model.fit(\n",
        "    train_dataset,\n",
        "    train_labels,\n",
        "    epochs=500,\n",
        "    validation_split=0.2,\n",
        "    callbacks=[early_stop],\n",
        "    verbose=1)\n",
        "print(\"Training finished.\")"
      ],
      "metadata": {
        "id": "Sk-04yp9zjdC"
      },
      "execution_count": null,
      "outputs": []
    },
    {
      "cell_type": "markdown",
      "source": [
        "# 5- Evaluation\n",
        "\n",
        "After training, we evaluate the model's performance.\n",
        "\n",
        "**History Plotting:** The plot_history function visualizes the training and validation MAE and MSE over epochs. This helps diagnose if the model was overfitting or underfitting.\n",
        "\n",
        "**Test Set Evaluation:** The model's final performance is measured on the unseen test set. This gives us a reliable estimate of how the model would perform on new data."
      ],
      "metadata": {
        "id": "TgaZ-gWp-G5z"
      }
    },
    {
      "cell_type": "code",
      "source": [
        "def plot_history(history_obj):\n",
        "    hist = pd.DataFrame(history_obj.history)\n",
        "    hist['epoch'] = history_obj.epoch\n",
        "\n",
        "    plt.figure(figsize=(12, 5))\n",
        "\n",
        "    plt.subplot(1, 2, 1)\n",
        "    plt.xlabel('Epoch')\n",
        "    plt.ylabel('Mean Absolute Error (Loss)')\n",
        "    plt.plot(hist['epoch'], hist['mae'], label='Train Error')\n",
        "    plt.plot(hist['epoch'], hist['val_mae'], label='Val Error')\n",
        "    plt.legend()\n",
        "    plt.title('Training and Validation MAE')\n",
        "\n",
        "\n",
        "    plt.subplot(1, 2, 2)\n",
        "    plt.xlabel('Epoch')\n",
        "    plt.ylabel('Mean Squared Error')\n",
        "    plt.plot(hist['epoch'], hist['mse'], label='Train MSE')\n",
        "    plt.plot(hist['epoch'], hist['val_mse'], label='Val MSE')\n",
        "    plt.legend()\n",
        "    plt.title('Training and Validation MSE')\n",
        "\n",
        "    plt.tight_layout()\n",
        "    plt.show()\n",
        "\n",
        "plot_history(history)\n"
      ],
      "metadata": {
        "id": "5Nyrq2ofzm9W"
      },
      "execution_count": null,
      "outputs": []
    },
    {
      "cell_type": "code",
      "execution_count": null,
      "metadata": {
        "id": "Xe7RXH3N3CWU"
      },
      "outputs": [],
      "source": [
        "# RUN THIS CELL TO TEST YOUR MODEL. DO NOT MODIFY CONTENTS.\n",
        "# Test model by checking how well the model generalizes using the test set.\n",
        "loss, mae, mse = model.evaluate(test_dataset, test_labels, verbose=2)\n",
        "\n",
        "print(\"Testing set Mean Abs Error: {:5.2f} expenses\".format(mae))\n",
        "\n",
        "if mae < 3500:\n",
        "  print(\"You passed the challenge. Great job!\")\n",
        "else:\n",
        "  print(\"The Mean Abs Error must be less than 3500. Keep trying.\")\n",
        "\n",
        "# Plot predictions.\n",
        "test_predictions = model.predict(test_dataset).flatten()\n",
        "\n",
        "a = plt.axes(aspect='equal')\n",
        "plt.scatter(test_labels, test_predictions)\n",
        "plt.xlabel('True values (expenses)')\n",
        "plt.ylabel('Predictions (expenses)')\n",
        "lims = [0, 50000]\n",
        "plt.xlim(lims)\n",
        "plt.ylim(lims)\n",
        "_ = plt.plot(lims,lims)\n"
      ]
    },
    {
      "cell_type": "markdown",
      "source": [
        "**Predictions vs. True Values Plot:** This scatter plot compares the model's predicted expenses against the actual expenses from the test set. A perfect model would have all points lying on the 45-degree diagonal line. This visualization provides an intuitive check of the model's accuracy across the range of values."
      ],
      "metadata": {
        "id": "GQVsHbQe-_Dl"
      }
    }
  ],
  "metadata": {
    "colab": {
      "name": "fcc_predict_health_costs_with_regression.ipynb",
      "private_outputs": true,
      "provenance": [],
      "include_colab_link": true
    },
    "kernelspec": {
      "display_name": "Python 3",
      "name": "python3"
    }
  },
  "nbformat": 4,
  "nbformat_minor": 0
}